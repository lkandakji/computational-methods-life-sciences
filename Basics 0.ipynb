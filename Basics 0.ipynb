{
 "cells": [
  {
   "cell_type": "markdown",
   "metadata": {},
   "source": []
  },
  {
   "cell_type": "markdown",
   "metadata": {},
   "source": []
  },
  {
   "cell_type": "markdown",
   "metadata": {},
   "source": []
  },
  {
   "cell_type": "markdown",
   "metadata": {},
   "source": [
    "## Problem 1:\n",
    "\n",
    "1 - Define a dictionary that maps numbers from 0 to 9 to \"Zero\", \"One\", etc\n",
    "\n",
    "2 - Write a function that for a given interger between 0 to 9, prints its written form equivalnet, e.g.\n",
    "```\n",
    "print_number(0)\n",
    "'Zero'\n",
    "```"
   ]
  },
  {
   "cell_type": "code",
   "execution_count": 4,
   "metadata": {},
   "outputs": [
    {
     "data": {
      "text/plain": [
       "'Zero'"
      ]
     },
     "execution_count": 4,
     "metadata": {},
     "output_type": "execute_result"
    }
   ],
   "source": [
    "number_dict = {0:'Zero', 1:'One', 2:'Two', 3:'Three', 4:'Four', 5:'Five', 6:'Six', 7:'Seven', 8:'Eight', 9:'Nine'}\n",
    "\n",
    "def print_number(x):\n",
    "    if type(x) == str:\n",
    "        print('Please enter a numerical value.')\n",
    "    elif x > 9:\n",
    "        print('Please enter a number between 0 to 9.')\n",
    "    elif x < 0:\n",
    "        print('Please enter a number between 0 to 9.')\n",
    "    else:\n",
    "        return number_dict[x]\n",
    "\n",
    "print_number(0)"
   ]
  },
  {
   "cell_type": "markdown",
   "metadata": {},
   "source": [
    "## Problem 2:\n",
    "Start and stop codons mark the beginning and end of translation of an mRNA to a to a protein sequence. Start codon in RNA is AUG (or ATG in DNA) and in the standard genetic code there are three stop codons: UAG,UAA and UGA.\n",
    "\n",
    " 1 - Write a function *dna_to_mRNA* that transcribes a DNA sequence to an RNA sequence (i.e, replaces T's with U's)\n",
    " \n",
    " 2 - Write a function *extract_coding_region* that given a DNA sequence, identifies the Start and Stop codons and retrieves the coding region (the sequence that will be translated to a protein sequence)\n",
    " \n",
    " 3 - Apply the function to `ATCGCTCGCCGAATGGTCGCTGCCCCTGCAACGTTAGATATATATATATACCC` and return the result"
   ]
  },
  {
   "cell_type": "code",
   "execution_count": 34,
   "metadata": {},
   "outputs": [
    {
     "name": "stdout",
     "output_type": "stream",
     "text": [
      "You enetered the sequence: ATCGCTCGCCGAATGGTCGCTCCCCTGCAACGTTAGATATATATATATACCC\n",
      "The transcribed mRNA sequence is: AUCGCUCGCCGAAUGGUCGCUGCCCCUGCAACGUUAGAUAUAUAUAUAUACCC\n",
      "The coding region is: GTCGCTGCCCCTGCAACGT\n"
     ]
    }
   ],
   "source": [
    "def dna_to_mRNA(s):\n",
    "    s = s.upper()\n",
    "    return s.replace('T','U')\n",
    "\n",
    "def extract_coding_region(s):\n",
    "    if (dna_to_mRNA(s)):\n",
    "        s = s.upper()\n",
    "        startCodonLocation = s.find(\"ATG\") + 3\n",
    "        locationOfTAA = s.find(\"TAA\") \n",
    "        if (locationOfTAA==-1):       #if it couldnt find TAA\n",
    "            locationOfTAA=100000000\n",
    "        locationOfTAG = s.find(\"TAG\")\n",
    "        if (locationOfTAG==-1):       #if it couldnt find TAG\n",
    "            locationOfTAG=100000000     \n",
    "        locationOfTGA = s.find(\"TGA\")\n",
    "        if (locationOfTGA==-1):       #if it couldnt find TGA\n",
    "            locationOfTGA=100000000     \n",
    "\n",
    "      #Finds the index where the first stop codon appears\n",
    "        stopCodonLocation = min(locationOfTGA,locationOfTAG,locationOfTAA)  \n",
    "        return s[startCodonLocation:stopCodonLocation]\n",
    "    else:\n",
    "        print(\"Error: The given sequence does not have a coding region\")\n",
    "\n",
    "print(\"You enetered the sequence: ATCGCTCGCCGAATGGTCGCTCCCCTGCAACGTTAGATATATATATATACCC\")\n",
    "print(\"The transcribed mRNA sequence is: \" + str(dna_to_mRNA('ATCGCTCGCCGAATGGTCGCTGCCCCTGCAACGTTAGATATATATATATACCC')))\n",
    "print(\"The coding region is: \" + str(extract_coding_region('ATCGCTCGCCGAATGGTCGCTGCCCCTGCAACGTTAGATATATATATATACCC')))"
   ]
  },
  {
   "cell_type": "markdown",
   "metadata": {},
   "source": [
    "## Problem 3:\n",
    "In a weighted alphabet, every symbol is assigned a positive real number called a weight. A string formed from a weighted alphabet is called a weighted string, and its weight is equal to the sum of the weights of its symbols.\n",
    "The standard weight assigned to each member of the 20-symbol amino acid alphabet is the [monoisotopic mass](https://en.wikipedia.org/wiki/Monoisotopic_mass) of the corresponding amino acid.\n",
    "\n",
    " 1- Write a function *get_mm_mass*, that for a given a protein sequence (with single character code), returns the total weight of the proteing sequence. \n",
    " For your convineince the monoisotopic mass table is given as a dictionary below in the following cell ([source](http://www.its.caltech.edu/~ppmal/sample_prep/work3.html)).\n",
    " \n",
    " 2 - Print the weigth of the following sequence:\n",
    " \n",
    "     P = 'kllgqcflvvvasrnpslltp'"
   ]
  },
  {
   "cell_type": "code",
   "execution_count": 36,
   "metadata": {},
   "outputs": [
    {
     "name": "stdout",
     "output_type": "stream",
     "text": [
      "2237.743\n"
     ]
    }
   ],
   "source": [
    "def get_mm_mass(s):\n",
    "    mm_dict ={'G':57.052,'A':71.079,'S':87.078,'P':97.117,'V':99.133,'T':101.105,'C':103.144,'I':113.160,'L':113.160,\n",
    "              'N':114.104,'D':115.089,'Q':128.131,'K':128.174,'E':129.116,'M':131.198,'H':137.142,'F':147.177,'R':156.188\n",
    "              ,'Y':163.170,'W':186.213}\n",
    "    s=s.upper()\n",
    "    weight = 0\n",
    "    for i in range (len(s)):\n",
    "        weight+=mm_dict[s[i]]\n",
    "    return weight\n",
    "print(get_mm_mass(\"kllgqcflvvvasrnpslltp\"))"
   ]
  }
 ],
 "metadata": {
  "kernelspec": {
   "display_name": "Python 3",
   "language": "python",
   "name": "python3"
  },
  "language_info": {
   "codemirror_mode": {
    "name": "ipython",
    "version": 3
   },
   "file_extension": ".py",
   "mimetype": "text/x-python",
   "name": "python",
   "nbconvert_exporter": "python",
   "pygments_lexer": "ipython3",
   "version": "3.8.8"
  }
 },
 "nbformat": 4,
 "nbformat_minor": 2
}
