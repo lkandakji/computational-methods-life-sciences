{
 "cells": [
  {
   "cell_type": "markdown",
   "metadata": {},
   "source": []
  },
  {
   "cell_type": "markdown",
   "metadata": {},
   "source": []
  },
  {
   "cell_type": "markdown",
   "metadata": {},
   "source": [
    "## Problem 1\n",
    "Read the file `lab4_ex_file.txt` into a file obeject called `lab4_file` using the `open` command.\n",
    "\n",
    "    1 - Use a for loop to count the number of lines in the file and print the number of lines\n",
    "    2 - Write a for loop over the file iterator and print the number of words in each line"
   ]
  },
  {
   "cell_type": "code",
   "execution_count": 23,
   "metadata": {},
   "outputs": [
    {
     "name": "stdout",
     "output_type": "stream",
     "text": [
      "The number of lines in this text file is: 7\n",
      "\n",
      "The number of words per each line respectively is:\n",
      "23\n",
      "33\n",
      "32\n",
      "34\n",
      "11\n",
      "42\n",
      "82\n"
     ]
    }
   ],
   "source": [
    "with open('lab4_ex_file.txt','r') as f:\n",
    "    line_count = 0\n",
    "    for line in f:\n",
    "        line_count += 1\n",
    "\n",
    "print('The number of lines in this text file is: ' + str(line_count))\n",
    "print('')\n",
    "print('The number of words per each line respectively is:')\n",
    "\n",
    "with open('lab4_ex_file.txt','r') as f:\n",
    "    for line in f.readlines():\n",
    "        words = len(line.split(' '))\n",
    "        print(words)"
   ]
  },
  {
   "cell_type": "markdown",
   "metadata": {},
   "source": [
    "## Problem 2\n",
    "Another method that can be invoked on a file object is `read` (instead of `readline`). This method reads all of the file content into a string, for example:\n",
    "```\n",
    "my_file = open('test.txt','r')\n",
    "my_file_content = my_file.read()\n",
    "```\n",
    "Then `my_file_content` is a string that contains all of the file content. \n",
    "\n",
    "    1 - Using this method, read the content of the file `lab4_FASTA.txt` and store the content in a list, in which each line is stored as a separate item (e.g. ['line 1', 'line 2', ...]\n",
    "    2 - Write a function that takes a file as input and returns a string that contains all of the file content printed in one line, each original line noew separted by a space. For example if the file is like:\n",
    "    \n",
    "    atctctcg\n",
    "    atctcg\n",
    "    tctctctc\n",
    "    \n",
    "    the outpot should be:\n",
    "    \n",
    "    atctctcg atctcg tctctctc\n",
    "    \n",
    "    3 - Write a function that takes this file as an input and prints how many times each nucleotide has appeared in the file (e.g: 'a':10, 't':20, 'c':40, 'g':10)\n",
    "    4 - Write a function that prints the frequency of each nucleotide (e.g. 'a': 0.1, 't': 0.3 etc)"
   ]
  },
  {
   "cell_type": "code",
   "execution_count": 60,
   "metadata": {},
   "outputs": [
    {
     "name": "stdout",
     "output_type": "stream",
     "text": [
      "1.\n",
      "['GGGACAGGGGGAGCCCTATAATTGGACAAGTCTGGGATCCTTGAGTCCTACTCAGCCCCAGCGGAGGTGA', 'AGGACGTCCTTCCCCAGGAGCCGGTGAGAAGCGCAGTCGGGGGCACGGGGATGAGCTCAGGGGCCTCTAG', 'AAAGAGCTGGGACCCTGGGAACCCCTGGCCTCCAGACTGGCCAATCACAGGCAGGAAGATGAAGGTTCTG', 'TGGGCTGCGTTGCTGGTCACATTCCTGGCAGGATGCCAGGCCAAGGTGGAGCAAGCGGTGGAGACAGAGC', 'CGGAGCCCGAGCTGCGCCAGCAGACCGAGTGGCAGAGCGGCCAGCGCTGGGAACTGGCACTGGGTCGCTT', 'TTGGGATTACCTGCGCTGGGTGCAGACACTGTCTGAGCAGGTGCAGGAGGAGCTGCTCAGCTCCCAGGTC', 'ACCCAGGAACTGAGGGCGCTGATGGACGAGACCATGAAGGAGTTGAAGGCCTACAAATCGGAACTGGAGG', 'AACAACTGACCCCGGTGGCGGAGGAGACGCGGGCACGGCTGTCCAAGGAGCTGCAGGCGGCGCAGGCCCG', 'GCTGGGCGCGGACATGGAGGACGTGTGCGGCCGCCTGGTGCAGTACCGCGGCGAGGTGCAGGCCATGCTC', 'GGCCAGAGCACCGAGGAGCTGCGGGTGCGCCTCGCCTCCCACCTGCGCAAGCTGCGTAAGCGGCTCCTCC', 'GCGATGCCGATGACCTGCAGAAGCGCCTGGCAGTGTACCAGGCCGGGGCCCGCGAGGGCGCCGAGCGCGG', 'CCTCAGCGCCATCCGCGAGCGCCTGGGGCCCCTGGTGGAACAGGGCCGCGTGCGGGCCGCCACTGTGGGC', 'TCCCTGGCCGGCCAGCCGCTACAGGAGCGGGCCCAGGCCTGGGGCGAGCGGCTGCGCGCGCGGATGGAGG', 'AGATGGGCAGCCGGACCCGCGACCGCCTGGACGAGGTGAAGGAGCAGGTGGCGGAGGTGCGCGCCAAGCT', 'GGAGGAGCAGGCCCAGCAGATACGCCTGCAGGCCGAGGCCTTCCAGGCCCGCCTCAAGAGCTGGTTCGAG', 'CCCCTGGTGGAAGACATGCAGCGCCAGTGGGCCGGGCTGGTGGAGAAGGTGCAGGCTGCCGTGGGCACCA', 'GCGCCGCCCCTGTGCCCAGCGACAATCACTGAACGCCGAAGCCTGCAGCCATGCGACCCCACGCCACCCC', 'GTGCCTCCTGCCTCCGCGCAGCCTGCAGCGGGAGACCCTGTCCCCGCCCCAGCCGTCCTCCTGGGGTGGA', 'CCCTAGTTTAATAAAGATTCACCAAGTTTCACGCATCAAAAAAAAAAAAAAAAAAA']\n",
      "\n",
      "2.\n",
      "GGGACAGGGGGAGCCCTATAATTGGACAAGTCTGGGATCCTTGAGTCCTACTCAGCCCCAGCGGAGGTGA AGGACGTCCTTCCCCAGGAGCCGGTGAGAAGCGCAGTCGGGGGCACGGGGATGAGCTCAGGGGCCTCTAG AAAGAGCTGGGACCCTGGGAACCCCTGGCCTCCAGACTGGCCAATCACAGGCAGGAAGATGAAGGTTCTG TGGGCTGCGTTGCTGGTCACATTCCTGGCAGGATGCCAGGCCAAGGTGGAGCAAGCGGTGGAGACAGAGC CGGAGCCCGAGCTGCGCCAGCAGACCGAGTGGCAGAGCGGCCAGCGCTGGGAACTGGCACTGGGTCGCTT TTGGGATTACCTGCGCTGGGTGCAGACACTGTCTGAGCAGGTGCAGGAGGAGCTGCTCAGCTCCCAGGTC ACCCAGGAACTGAGGGCGCTGATGGACGAGACCATGAAGGAGTTGAAGGCCTACAAATCGGAACTGGAGG AACAACTGACCCCGGTGGCGGAGGAGACGCGGGCACGGCTGTCCAAGGAGCTGCAGGCGGCGCAGGCCCG GCTGGGCGCGGACATGGAGGACGTGTGCGGCCGCCTGGTGCAGTACCGCGGCGAGGTGCAGGCCATGCTC GGCCAGAGCACCGAGGAGCTGCGGGTGCGCCTCGCCTCCCACCTGCGCAAGCTGCGTAAGCGGCTCCTCC GCGATGCCGATGACCTGCAGAAGCGCCTGGCAGTGTACCAGGCCGGGGCCCGCGAGGGCGCCGAGCGCGG CCTCAGCGCCATCCGCGAGCGCCTGGGGCCCCTGGTGGAACAGGGCCGCGTGCGGGCCGCCACTGTGGGC TCCCTGGCCGGCCAGCCGCTACAGGAGCGGGCCCAGGCCTGGGGCGAGCGGCTGCGCGCGCGGATGGAGG AGATGGGCAGCCGGACCCGCGACCGCCTGGACGAGGTGAAGGAGCAGGTGGCGGAGGTGCGCGCCAAGCT GGAGGAGCAGGCCCAGCAGATACGCCTGCAGGCCGAGGCCTTCCAGGCCCGCCTCAAGAGCTGGTTCGAG CCCCTGGTGGAAGACATGCAGCGCCAGTGGGCCGGGCTGGTGGAGAAGGTGCAGGCTGCCGTGGGCACCA GCGCCGCCCCTGTGCCCAGCGACAATCACTGAACGCCGAAGCCTGCAGCCATGCGACCCCACGCCACCCC GTGCCTCCTGCCTCCGCGCAGCCTGCAGCGGGAGACCCTGTCCCCGCCCCAGCCGTCCTCCTGGGGTGGA CCCTAGTTTAATAAAGATTCACCAAGTTTCACGCATCAAAAAAAAAAAAAAAAAAA\n",
      "\n",
      "3. The number of occurences per nucleotide is:\n",
      "A: 258\n",
      "T: 171\n",
      "C: 405\n",
      "G: 482\n",
      "\n",
      "4. The frequency of each nucleotide is:\n",
      "A: 0.193258426966\n",
      "T: 0.12808988764\n",
      "C: 0.303370786517\n",
      "G: 0.361048689139\n"
     ]
    }
   ],
   "source": [
    "print('1.')\n",
    "with open('lab4_FASTA.txt','r') as f:\n",
    "    lines = f.read().splitlines()\n",
    "    print lines\n",
    "\n",
    "print('')\n",
    "\n",
    "print('2.')\n",
    "with open('lab4_FASTA.txt','r') as f:\n",
    "    lines = f.readlines()\n",
    "    mystr = ' '.join([line.strip() for line in lines])\n",
    "    print mystr\n",
    "\n",
    "print('')\n",
    "\n",
    "print('3. The number of occurences per nucleotide is:')\n",
    "with open('lab4_FASTA.txt','r') as f:\n",
    "    sequence = f.read()\n",
    "    countA = sequence.count('A')\n",
    "    print('A: '+ str(countA))\n",
    "    countT = sequence.count('T')\n",
    "    print('T: '+ str(countT))\n",
    "    countC = sequence.count('C')\n",
    "    print('C: '+ str(countC))\n",
    "    countG = sequence.count('G')\n",
    "    print('G: '+ str(countG))\n",
    "\n",
    "print('')\n",
    "\n",
    "print('4. The frequency of each nucleotide is:')\n",
    "with open('lab4_FASTA.txt','r') as f:\n",
    "    sequence = f.read()\n",
    "    numofbases = len(sequence)\n",
    "    frequencyA = float(countA)/numofbases\n",
    "    print('A: '+ str(frequencyA))\n",
    "    frequencyT = float(countT)/numofbases\n",
    "    print('T: '+ str(frequencyT))\n",
    "    frequencyC = float(countC)/numofbases\n",
    "    print('C: '+ str(frequencyC))\n",
    "    frequencyG = float(countG)/numofbases\n",
    "    print('G: '+ str(frequencyG))"
   ]
  },
  {
   "cell_type": "markdown",
   "metadata": {
    "collapsed": true
   },
   "source": [
    "## Problem 3\n",
    "Suppose that you want to read a file and convert all text to lowercase and remove any of the following words from the file:\n",
    "['and', 'or', 'in', 'the', 'for', 'this', 'that'] and write the results to a new file.\n",
    "\n",
    "    1 - Write a function called `remove_common_words` that takes two arguments (input_file_name and output_file_name) to do this.\n",
    "    \n",
    "    2 - Apply your function to the file lab4_ex_file.txt, and write it to a file called lab4_problem4.txt and submit this file along with your notebook\n",
    "\n",
    "NOTE: Make sure you remove the whole words and not partial for example you don't want the case that if the word `oracle` is appeard in the inut document you get `racle` in the output (by removing `or` from the beginning)"
   ]
  },
  {
   "cell_type": "code",
   "execution_count": 69,
   "metadata": {},
   "outputs": [],
   "source": [
    "input_file_name = \"lab4_ex_file.txt\"\n",
    "output_file_name = \"lab4_problem4.txt\"\n",
    "\n",
    "delete_list = [' and ', ' or ', ' in ', 'the ', 'for ', ' this ', ' that ']\n",
    "\n",
    "fin = open(input_file_name)\n",
    "fout = open(output_file_name, \"w+\")\n",
    "\n",
    "for line in fin:\n",
    "    line = line.lower()\n",
    "    for word in delete_list:\n",
    "        line = line.replace(word, \" \")\n",
    "    fout.write(line)\n",
    "fin.close()\n",
    "fout.close()"
   ]
  }
 ],
 "metadata": {
  "kernelspec": {
   "display_name": "Python 3",
   "language": "python",
   "name": "python3"
  },
  "language_info": {
   "codemirror_mode": {
    "name": "ipython",
    "version": 3
   },
   "file_extension": ".py",
   "mimetype": "text/x-python",
   "name": "python",
   "nbconvert_exporter": "python",
   "pygments_lexer": "ipython3",
   "version": "3.8.8"
  }
 },
 "nbformat": 4,
 "nbformat_minor": 2
}
