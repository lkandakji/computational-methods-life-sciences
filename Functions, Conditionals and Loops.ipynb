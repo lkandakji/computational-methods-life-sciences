{
 "cells": [
  {
   "cell_type": "markdown",
   "metadata": {},
   "source": []
  },
  {
   "cell_type": "markdown",
   "metadata": {},
   "source": []
  },
  {
   "cell_type": "markdown",
   "metadata": {},
   "source": [
    "# Functions, Conditionals and Loops\n",
    "Define custome functions, import modules and explore lists."
   ]
  },
  {
   "cell_type": "markdown",
   "metadata": {},
   "source": [
    "## Linkage Disequilibrium\n",
    "In population genetics, Linkage Disequilibirium (LD) is a measure of deviation of allele frequencies at different loci, from random association. \n",
    "Loci are said to be in linkage disequilibrium when the alleles at two different loci are more likely (of less likely) to be observed together, than what would be expected by chance. There are different measures of LD. In this exercise you will write functions that caluclate LD (given the frequenices).\n",
    "\n",
    "Suppose at two different loci, there are two possible alleles, A/a and B/b corresponding to the first and second locus respectively. Let `pA` to denote the frequency of allele `A` at the first locus, and `pB` to represent the frequency of the `B` allele and `pAB` to be the frequency of `AB` combination in the population.\n",
    "\n",
    "Then `D` is given by:\n",
    "\n",
    "       D = pAB - pA*pB\n",
    "\n",
    "Another measure of LD is called `D'`, this value is a normalised version of `D` in the sense that it is always between -1 and 1\n",
    "\n",
    "`D'` is defined as follow:\n",
    "\n",
    "    D' = D/Dmin\n",
    "\n",
    "where *Dmin* is defined as follows:\n",
    "\n",
    "    Dmin = max{-pA pB, -(1-pA)(1-pB)} if D < 0\n",
    "\n",
    "           max{-pA (1-pB), (1-pA)pB} if D >= 0\n",
    "\n",
    "1. Write a function called *calculate_D*, that given three values *pA, pB, pAB*, returns *D*\n",
    "\n",
    "2. Write a function called *calculate_Dprime* that uses *calculate_D* to return *D'* as defined above\n",
    "\n",
    "3. What are the value of `D` and `D'` if `pA=0.2, pB=0.2` and `pAB = 0.1`? What if `pAB = 0.01`?\n"
   ]
  },
  {
   "cell_type": "code",
   "execution_count": 34,
   "metadata": {},
   "outputs": [
    {
     "name": "stdout",
     "output_type": "stream",
     "text": [
      "When pAB = 0.1\n",
      "The value of D is: 0.06\n",
      "The value of D' is: 0.375\n",
      "\n",
      "When pAB = 0.01\n",
      "The value of D is: -0.03\n",
      "The value of D' is: 0.75\n"
     ]
    }
   ],
   "source": [
    "def calculate_D(pA,pB,pAB):\n",
    "    return pAB-(pA*pB);\n",
    "\n",
    "def calculate_Dprime(pA,pB,pAB):\n",
    "    D=calculate_D(pA,pB,pAB);\n",
    "    if (D<0):\n",
    "        Dmin = max(-pA*pB, -(1-pA)*(1-pB));\n",
    "    elif (D>0):\n",
    "        Dmin = max(-pA*(1-pB), (1-pA)*pB);\n",
    "    return D/Dmin;\n",
    "\n",
    "print(\"When pAB = 0.1\")\n",
    "print(\"The value of D is: \" + str\n",
    "     (calculate_D(0.2,0.2,0.1)));\n",
    "print(\"The value of D' is: \" + str\n",
    "     (calculate_Dprime(0.2,0.2,0.1)));\n",
    "\n",
    "print(\"\")\n",
    "\n",
    "print(\"When pAB = 0.01\")\n",
    "print(\"The value of D is: \" + str\n",
    "     (calculate_D(0.2,0.2,0.01)));\n",
    "print(\"The value of D' is: \" + str\n",
    "     (calculate_Dprime(0.2,0.2,0.01)));"
   ]
  },
  {
   "cell_type": "markdown",
   "metadata": {},
   "source": [
    "## Factorial Function\n",
    "Recursive function: In the lectures you saw examples of recursive functions. \n",
    "In math, factorial function is defined as:\n",
    "\n",
    "            n! = n(n-1)(n-2)...1\n",
    "\n",
    "for example `3! = 3*2*1 = 6`, by convention `0! =1`.\n",
    "\n",
    "Using recursive functions, define a function called `factorial_n` that for a given value, `n` returns `n!` and calculate `10!`"
   ]
  },
  {
   "cell_type": "code",
   "execution_count": 6,
   "metadata": {},
   "outputs": [
    {
     "name": "stdout",
     "output_type": "stream",
     "text": [
      "Please enter an integer: a\n",
      "Not an integer! Try again.\n",
      "\n",
      "Please enter an integer: 1.1\n",
      "Not an integer! Try again.\n",
      "\n",
      "Please enter an integer: 4\n",
      "Factorial of your number: 24\n",
      "Factorial of 10 is: 3628800\n"
     ]
    }
   ],
   "source": [
    "def factorial_n(n):\n",
    "    if(n == 0):\n",
    "        return 1\n",
    "    elif(n < 0):\n",
    "        print(\"MATH ERROR: you entered a negative number!\")\n",
    "    else:\n",
    "        return n*factorial_n(n-1)\n",
    "\n",
    "while True:\n",
    "    try:\n",
    "        n = int(raw_input(\"Please enter an integer: \"))\n",
    "    except ValueError:\n",
    "        print(\"Not an integer! Try again.\")\n",
    "        print(\"\")\n",
    "        continue\n",
    "    else:\n",
    "        break\n",
    "          \n",
    "print(\"Factorial of your number: \" + str(factorial_n(n)))\n",
    "print(\"Factorial of 10 is: \" + str(factorial_n(10)))"
   ]
  },
  {
   "cell_type": "markdown",
   "metadata": {},
   "source": [
    "## Nested Loops\n",
    "Nested for loops: In class we saw an example of nested loops; Consider the following code:\n",
    "\n",
    "        \n",
    "        for i in range(5):\n",
    "            row_string = ''\n",
    "            for j in range(5):\n",
    "                row_string = row_string + '*'\n",
    "            print(row_string)\n",
    "            \n",
    "Try the code and see what it generates.\n",
    "\n",
    " 1. Modify the code so that it outputs this:\n",
    "         *\n",
    "         **\n",
    "         ***\n",
    "         ****\n",
    " 2. And this:\n",
    "         ****\n",
    "         ***\n",
    "         **\n",
    "         *\n",
    "**Bonus problem**\n",
    " 3. And this: (Hint: you should use the conditional `if j % 2 == 0` in your code)\n",
    "         *-*-*\n",
    "         *-*-*\n",
    "         *-*-*\n",
    "         *-*-*\n",
    "         *-*-*"
   ]
  },
  {
   "cell_type": "code",
   "execution_count": 44,
   "metadata": {},
   "outputs": [
    {
     "name": "stdout",
     "output_type": "stream",
     "text": [
      "*****\n",
      "*****\n",
      "*****\n",
      "*****\n",
      "*****\n",
      "\n",
      "1.\n",
      "\n",
      "*\n",
      "**\n",
      "***\n",
      "****\n",
      "\n",
      "2.\n",
      "****\n",
      "***\n",
      "**\n",
      "*\n",
      "\n",
      "BONUS!\n",
      "3.\n",
      "*-*-*\n",
      "*-*-*\n",
      "*-*-*\n",
      "*-*-*\n",
      "*-*-*\n"
     ]
    }
   ],
   "source": [
    "for i in range(5):\n",
    "    row_string = ''\n",
    "    for j in range(5):\n",
    "        row_string = row_string + '*'\n",
    "    print(row_string)\n",
    "\n",
    "print(\"\")\n",
    "print(\"1.\")  \n",
    "\n",
    "for i in range(5):\n",
    "    row_string = ''\n",
    "    for j in range(i):\n",
    "        row_string = row_string + '*'\n",
    "    print(row_string)\n",
    "\n",
    "print(\"\")\n",
    "print(\"2.\")\n",
    "\n",
    "for i in range(5):\n",
    "    row_string = ''\n",
    "    for j in range(4-i):\n",
    "        row_string = row_string + '*'\n",
    "    print(row_string)\n",
    "\n",
    "print(\"BONUS!\")\n",
    "print(\"3.\")\n",
    "\n",
    "for i in range(5):\n",
    "    row_string = ''\n",
    "    for j in range(5):\n",
    "        if (j%2==0):\n",
    "            row_string = row_string + '*'\n",
    "        else:\n",
    "            row_string = row_string + \"-\"\n",
    "    print(row_string)"
   ]
  },
  {
   "cell_type": "markdown",
   "metadata": {},
   "source": [
    "## Population Growth\n",
    "\n",
    "There are instances that in a population, the rate of change per unit time is proportional to the current population size. In this case population size grows (or decayes) exponentially. \n",
    "\n",
    "Suppose the population size at time instance *n* (discrete variable, for example generation), is denoted by *x(n)*, and suppose that the rate of growth is *r* (for example the average number of progenies per individual per generation), then:\n",
    "\n",
    "    x(n) = x(0)(1+r)^n    (eq 4.1)\n",
    "\n",
    "This is valid when time is descrete (e.g, none overlapping generations). In case of continuouse time, the growth is given by\n",
    "\n",
    "    x(t) = x(0)exp(r*t)  (eq 4.2)\n",
    "\n",
    " 1. Write a function that given the values *x(0), r* and *n*, returns the population size at time *n* using eq 4.1\n",
    " 2. Similarly write a function that uses eq 4.2 to calculate population size at time *t*\n",
    " 3. Assuming a discrete time model, in a bacterial population that doubles in size in every three generations, what is the population size after 20 generations, if it starts from a single bacteria?\n"
   ]
  },
  {
   "cell_type": "code",
   "execution_count": 26,
   "metadata": {},
   "outputs": [
    {
     "name": "stdout",
     "output_type": "stream",
     "text": [
      "Assuming a discrete time model, in a bacterial population that doubles in size in every three generations...\n",
      "the population size after 20 generations is: 101.0\n"
     ]
    }
   ],
   "source": [
    "def calculate_popdiscrete(x0,r,n):\n",
    "    return x0*(1+r)**(n);\n",
    "\n",
    "def calculate_popcontinuous(x0,r,t):\n",
    "    return x0*(e**(r*t));\n",
    "\n",
    "print(\"Assuming a discrete time model, in a bacterial population that doubles in size in every three generations...\")\n",
    "import math\n",
    "print(\"the population size after 20 generations is: \" + str(math.floor(calculate_popdiscrete(1,1,20./3))))\n",
    "#size must be an integer(can't have a fraction of a bacteria), so we round down"
   ]
  },
  {
   "cell_type": "markdown",
   "metadata": {},
   "source": [
    "## DNA Sequence\n",
    "\n",
    "In this problem, you will write a function that decides whether a given sequence is a DNA sequence, and if so it calculates the `GC` content of the sequence.\n",
    "\n",
    "Here are some string methods that you need to use for this problem:\n",
    "\n",
    "   - For a given string *s*, to convert it to uppercase use `s.upper()` or `s.lower()` to convert to lowercase\n",
    "   - To check whether a given character (e.g. `b='G'`) is in the string you can use `b in s`, which returns `True` if the letter `G` appears in the string `s`\n",
    "   \n",
    "    1. Write a function called `is_DNA`, that takes a string value and returns `True` it that string can be a DNA sequence (i.e. only contains A,T,C,G), and `False` otherwise\n",
    "\n",
    "Now, suppose that you want to calculate the GC content of a given DNA sequence. GC content is simply the proportion of occurences of G + C in a given sequence (i.e. (number of Gs + number of Cs) / the length of the sequence.\n",
    "   \n",
    "   - For a given string you can calculate the number of ocurences of a given character using `s.count()` method, for example `s.count('g')` returns the number of occurences of G\n",
    "   - To get the length of a string you can use `len(s)`, for ewxampel `len('abcd')` returns 4.\n",
    "   \n",
    "   2. Write a function called `gc_content` that for a given string `s`, decides whether it is a DNA sequence (using the function `is_DNA`), and if so it returns the GC content, otherwise it prints: `Error: The given sequence is not a DNA sequence`\n",
    "   3. Apply the function you defined above on the following sequences:\n",
    "       - `s = 'atgctGtCGTaCGtgcACgtGCaa'`\n",
    "       - `s = 'atgchdhdtccchdhcGGHC sghdd'`"
   ]
  },
  {
   "cell_type": "code",
   "execution_count": 15,
   "metadata": {},
   "outputs": [
    {
     "name": "stdout",
     "output_type": "stream",
     "text": [
      "You enetered the sequence: atgctGtCGTaCGtgcACgtGCaa\n",
      "Error: The given sequence is not a DNA sequences!\n",
      "The GC content of your sequence is: None\n",
      "\n",
      "You enetered the sequence: atgchdhdtccchdhcGGHC sghdd\n",
      "Error: The given sequence is not a DNA sequences!\n",
      "The GC content of your sequence is: None\n"
     ]
    }
   ],
   "source": [
    "def is_DNA(s):\n",
    "    s = s.lower()\n",
    "    totalATCG = s.count('a') + s.count('t') + s.count('c') + s.count('g')\n",
    "    if (totalATCG == len(s)):\n",
    "        return True\n",
    "    else:\n",
    "        return False\n",
    "\n",
    "def gc_content(s):\n",
    "    if (is_DNA(s)):\n",
    "        s = s.lower()\n",
    "        numOccurencesGC = s.count('g') + s.count('c')\n",
    "        return float(numOccurencesGC)/len(s)\n",
    "    else:\n",
    "        print(\"Error: The given sequence is not a DNA sequences!\")\n",
    "\n",
    "print(\"You enetered the sequence: atgctGtCGTaCGtgcACgtGCaa\")\n",
    "print(\"The GC content of your sequence is: \" + str(gc_content(\"atgctGtCGTaCGtgcACgtGCaa\")))\n",
    "\n",
    "print(\"\")\n",
    "print(\"You enetered the sequence: atgchdhdtccchdhcGGHC sghdd\")\n",
    "print(\"The GC content of your sequence is: \" + str(gc_content(\"atgchdhdtccchdhcGGHC sghdd\")))"
   ]
  }
 ],
 "metadata": {
  "kernelspec": {
   "display_name": "Python 3",
   "language": "python",
   "name": "python3"
  },
  "language_info": {
   "codemirror_mode": {
    "name": "ipython",
    "version": 3
   },
   "file_extension": ".py",
   "mimetype": "text/x-python",
   "name": "python",
   "nbconvert_exporter": "python",
   "pygments_lexer": "ipython3",
   "version": "3.8.8"
  }
 },
 "nbformat": 4,
 "nbformat_minor": 2
}
